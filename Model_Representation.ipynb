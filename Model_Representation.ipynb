{
  "nbformat": 4,
  "nbformat_minor": 0,
  "metadata": {
    "colab": {
      "provenance": []
    },
    "kernelspec": {
      "name": "python3",
      "display_name": "Python 3"
    },
    "language_info": {
      "name": "python"
    }
  },
  "cells": [
    {
      "cell_type": "markdown",
      "source": [
        "## Goals\n",
        "In this lab you will:\n",
        "- Learn to implement the model $f_{w,b}$ for linear regression with one variable"
      ],
      "metadata": {
        "id": "lYM4_MsjMKRR"
      }
    },
    {
      "cell_type": "markdown",
      "source": [
        "## Notation\n",
        "Here is a summary of some of the notation you will encounter.  \n",
        "\n",
        "|General <img width=70/> <br />  Notation  <img width=70/> | Description<img width=350/>| Python (if applicable) |\n",
        "|: ------------|: ------------------------------------------------------------||\n",
        "| $a$ | scalar, non bold                                                      ||\n",
        "| $\\mathbf{a}$ | vector, bold                                                      ||\n",
        "| **Regression** |         |    |     |\n",
        "|  $\\mathbf{x}$ | Training Example feature values (in this lab - Size (1000 sqft))  | `x_train` |   \n",
        "|  $\\mathbf{y}$  | Training Example  targets (in this lab Price (1000s of dollars))  | `y_train`\n",
        "|  $x^{(i)}$, $y^{(i)}$ | $i_{th}$Training Example | `x_i`, `y_i`|\n",
        "| m | Number of training examples | `m`|\n",
        "|  $w$  |  parameter: weight                                 | `w`    |\n",
        "|  $b$           |  parameter: bias                                           | `b`    |     \n",
        "| $f_{w,b}(x^{(i)})$ | The result of the model evaluation at $x^{(i)}$ parameterized by $w,b$: $f_{w,b}(x^{(i)}) = wx^{(i)}+b$  | `f_wb` |\n"
      ],
      "metadata": {
        "id": "AwIKtOtkMO8i"
      }
    },
    {
      "cell_type": "markdown",
      "source": [
        "## Tools\n",
        "In this lab you will make use of:\n",
        "- NumPy, a popular library for scientific computing\n",
        "- Matplotlib, a popular library for plotting data"
      ],
      "metadata": {
        "id": "awQXbcsJMgIf"
      }
    },
    {
      "cell_type": "code",
      "source": [
        "import numpy as np\n",
        "import matplotlib.pyplot as plt"
      ],
      "metadata": {
        "id": "y0u1NBmmM0_F"
      },
      "execution_count": 3,
      "outputs": []
    },
    {
      "cell_type": "markdown",
      "source": [
        "# Problem Statement\n",
        "<img align=\"left\" src=\"./images/C1_W1_L3_S1_trainingdata.png\"    style=\" width:380px; padding: 10px;  \" />\n",
        "\n",
        "As in the lecture, you will use the motivating example of housing price prediction.  \n",
        "This lab will use a simple data set with only two data points - a house with 1000 square feet(sqft) sold for \\\\$300,000 and a house with 2000 square feet sold for \\\\$500,000. These two points will constitute our *data or training set*. In this lab, the units of size are 1000 sqft and the units of price are 1000s of dollars.\n",
        "\n",
        "| Size (1000 sqft)     | Price (1000s of dollars) |\n",
        "| -------------------| ------------------------ |\n",
        "| 1.0               | 300                      |\n",
        "| 2.0               | 500                      |\n",
        "\n",
        "You would like to fit a linear regression model (shown above as the blue straight line) through these two points, so you can then predict price for other houses - say, a house with 1200 sqft.\n"
      ],
      "metadata": {
        "id": "J27glx9SMnmI"
      }
    },
    {
      "cell_type": "code",
      "source": [
        "#x_train is the input variable(size in 1000 sq.feet)\n",
        "#y_train is the target (price in 1000s of dollars)\n",
        "\n",
        "x_train = np.array([1.0, 2.0])\n",
        "y_train = np.array([300.0,500.0])\n",
        "print(f\"x_train = {x_train}\")\n",
        "print(f\"y_train = {y_train}\")\n"
      ],
      "metadata": {
        "colab": {
          "base_uri": "https://localhost:8080/"
        },
        "id": "nTrNRny3Mpxq",
        "outputId": "bfbe9c9c-fdaa-4a25-adfe-8656c3a6c262"
      },
      "execution_count": 4,
      "outputs": [
        {
          "output_type": "stream",
          "name": "stdout",
          "text": [
            "x_train = [1. 2.]\n",
            "y_train = [300. 500.]\n"
          ]
        }
      ]
    },
    {
      "cell_type": "markdown",
      "source": [
        "### Number of training examples `m`\n",
        "You will use `m` to denote the number of training examples. Numpy arrays have a `.shape` parameter. `x_train.shape` returns a python tuple with an entry for each dimension. `x_train.shape[0]` is the length of the array and number of examples as shown below."
      ],
      "metadata": {
        "id": "0sPpsUpoN1jQ"
      }
    },
    {
      "cell_type": "code",
      "source": [
        "# m is the number of training examples\n",
        "\n",
        "print(f\"x_trian.shape: {x_train.shape}\")\n",
        "m = x_train.shape[0]\n",
        "print(f\"Number of training examples is : {m}\")"
      ],
      "metadata": {
        "colab": {
          "base_uri": "https://localhost:8080/"
        },
        "id": "8_DCt343Nxjs",
        "outputId": "f112c88a-f637-4df1-c47e-f93530902f56"
      },
      "execution_count": 5,
      "outputs": [
        {
          "output_type": "stream",
          "name": "stdout",
          "text": [
            "x_trian.shape: (2,)\n",
            "Number of training examples is : 2\n"
          ]
        }
      ]
    },
    {
      "cell_type": "code",
      "source": [
        "#one can use len() fuction too\n",
        "m = len(x_train)\n",
        "print(f\"Number of training examples is: {m}\")"
      ],
      "metadata": {
        "colab": {
          "base_uri": "https://localhost:8080/"
        },
        "id": "Q23nQz-YOcDC",
        "outputId": "9dc524f2-5ee6-4e3b-a956-fcaca056a92a"
      },
      "execution_count": 6,
      "outputs": [
        {
          "output_type": "stream",
          "name": "stdout",
          "text": [
            "Number of training examples is: 2\n"
          ]
        }
      ]
    },
    {
      "cell_type": "markdown",
      "source": [
        "### Training example `x_i, y_i`\n",
        "\n",
        "You will use (x$^{(i)}$, y$^{(i)}$) to denote the $i^{th}$ training example. Since Python is zero indexed, (x$^{(0)}$, y$^{(0)}$) is (1.0, 300.0) and (x$^{(1)}$, y$^{(1)}$) is (2.0, 500.0).\n",
        "\n",
        "To access a value in a Numpy array, one indexes the array with the desired offset. For example the syntax to access location zero of `x_train` is `x_train[0]`.\n",
        "Run the next code block below to get the $i^{th}$ training example."
      ],
      "metadata": {
        "id": "1yf6eL8pO1sN"
      }
    },
    {
      "cell_type": "code",
      "source": [
        "i = 1 #change this i to see(x^1, y^1 )\n",
        "\n",
        "x_i = x_train[i]\n",
        "y_i = y_train[i]\n",
        "print(f\"(x^({i}), y^({i})) = ({x_i},{y_i})\")"
      ],
      "metadata": {
        "colab": {
          "base_uri": "https://localhost:8080/"
        },
        "id": "f0L0OWQeOyO7",
        "outputId": "9fa4c584-99ad-4ff2-a8ce-a90133cb5af3"
      },
      "execution_count": 7,
      "outputs": [
        {
          "output_type": "stream",
          "name": "stdout",
          "text": [
            "(x^(1), y^(1)) = (2.0,500.0)\n"
          ]
        }
      ]
    },
    {
      "cell_type": "markdown",
      "source": [
        "You can plot these two points using the `scatter()` function in the `matplotlib` library, as shown in the cell below.\n",
        "- The function arguments `marker` and `c` show the points as red crosses (the default is blue dots).\n",
        "\n",
        "You can use other functions in the `matplotlib` library to set the title and labels to display"
      ],
      "metadata": {
        "id": "ix7h9kVwPcHM"
      }
    },
    {
      "cell_type": "code",
      "source": [
        "#plot the data point\n",
        "\n",
        "plt.scatter(x_train,y_train, marker = 'x' , c = 'r')\n",
        "\n",
        "#Set the title\n",
        "\n",
        "plt.title(\"Housing Prises\")\n",
        "\n",
        "#Set the y-axis\n",
        "\n",
        "plt.ylabel('Price (in 1000s of dollars)')\n",
        "#set the x-axis\n",
        "\n",
        "plt.xlabel('Size (1000s sqft)')\n",
        "\n",
        "plt.show()"
      ],
      "metadata": {
        "colab": {
          "base_uri": "https://localhost:8080/",
          "height": 472
        },
        "id": "vk9EoVbIPmsg",
        "outputId": "9de1b911-649e-4cd2-a3fc-ba41c625c1b1"
      },
      "execution_count": 8,
      "outputs": [
        {
          "output_type": "display_data",
          "data": {
            "text/plain": [
              "<Figure size 640x480 with 1 Axes>"
            ],
            "image/png": "[encoded data removed]"
          },
          "metadata": {}
        }
      ]
    },
    {
      "cell_type": "markdown",
      "source": [
        "## Model function\n",
        "\n",
        "<img align=\"left\" src=\"./images/C1_W1_L3_S1_model.png\"     style=\" width:380px; padding: 10px; \" > As described in lecture, the model function for linear regression (which is a function that maps from `x` to `y`) is represented as\n",
        "\n",
        "$$ f_{w,b}(x^{(i)}) = wx^{(i)} + b \\tag{1}$$\n",
        "\n",
        "The formula above is how you can represent straight lines - different values of $w$ and $b$ give you different straight lines on the plot. <br/> <br/> <br/> <br/> <br/>\n",
        "\n",
        "Let's try to get a better intuition for this through the code blocks below. Let's start with $w = 100$ and $b = 100$.\n",
        "\n",
        "**Note: You can come back to this cell to adjust the model's w and b parameters**"
      ],
      "metadata": {
        "id": "72mepL15QfUK"
      }
    },
    {
      "cell_type": "code",
      "source": [
        "w = 200\n",
        "b = 100\n",
        "\n",
        "print(f\"w: {w}\")\n",
        "print(f\"b: {b}\")\n"
      ],
      "metadata": {
        "colab": {
          "base_uri": "https://localhost:8080/"
        },
        "id": "-0WULCw4PaL1",
        "outputId": "0603f15d-277a-452e-b46d-8f1b85928e6b"
      },
      "execution_count": 9,
      "outputs": [
        {
          "output_type": "stream",
          "name": "stdout",
          "text": [
            "w: 200\n",
            "b: 100\n"
          ]
        }
      ]
    },
    {
      "cell_type": "markdown",
      "source": [
        "Now, let's compute the value of $f_{w,b}(x^{(i)})$ for your two data points. You can explicitly write this out for each data point as -\n",
        "\n",
        "for $x^{(0)}$, `f_wb = w * x[0] + b`\n",
        "\n",
        "for $x^{(1)}$, `f_wb = w * x[1] + b`\n",
        "\n",
        "For a large number of data points, this can get unwieldy and repetitive. So instead, you can calculate the function output in a `for` loop as shown in the `compute_model_output` function below.\n",
        "> **Note**: The argument description `(ndarray (m,))` describes a Numpy n-dimensional array of shape (m,). `(scalar)` describes an argument without dimensions, just a magnitude.  \n",
        "> **Note**: `np.zero(n)` will return a one-dimensional numpy array with $n$ entries   \n"
      ],
      "metadata": {
        "id": "ohnUnhVaQ-C_"
      }
    },
    {
      "cell_type": "code",
      "source": [
        "def compute_model_output(x, w, b):\n",
        "  '''\n",
        "  computes the prediction of a linear model args:\n",
        "  x(ndarray (m,)): Data, m examples\n",
        "  w,b (scalars) : model parameters\n",
        "  Returns\n",
        "    f_wb (ndarray (m,)) : model prediction\n",
        "  '''\n",
        "\n",
        "  m = x.shape[0]\n",
        "  f_wb = np.zeros(m)\n",
        "  for i in range(m):\n",
        "    f_wb[i] = w *x[i] +b\n",
        "\n",
        "  return f_wb"
      ],
      "metadata": {
        "id": "orP6AkMwQ8l9"
      },
      "execution_count": 10,
      "outputs": []
    },
    {
      "cell_type": "code",
      "source": [
        "tmp_f_wb = compute_model_output(x_train, w, b)\n",
        "\n",
        "plt.plot(x_train, tmp_f_wb, c = 'b', label = 'Our Prediction')\n",
        "\n",
        "plt.scatter(x_train, y_train, marker = 'x', c = 'r', label = 'actual values')\n",
        "\n",
        "plt.title('Housing Prices')\n",
        "\n",
        "plt.ylabel(\"price in 1000s of $\")\n",
        "\n",
        "plt.xlabel(\"size (100 sqft)\")\n",
        "\n",
        "plt.legend()\n",
        "\n",
        "plt.show()"
      ],
      "metadata": {
        "id": "DwmNmyjWlVLB",
        "colab": {
          "base_uri": "https://localhost:8080/",
          "height": 472
        },
        "outputId": "11a3decb-bc9c-4ef8-cfa4-9746fb5ab253"
      },
      "execution_count": 11,
      "outputs": [
        {
          "output_type": "display_data",
          "data": {
            "text/plain": [
              "<Figure size 640x480 with 1 Axes>"
            ],
            "image/png": "[encoded data removed]"
          },
          "metadata": {}
        }
      ]
    },
    {
      "cell_type": "code",
      "source": [],
      "metadata": {
        "id": "wCXcriP-zh5t"
      },
      "execution_count": null,
      "outputs": []
    }
  ]
}