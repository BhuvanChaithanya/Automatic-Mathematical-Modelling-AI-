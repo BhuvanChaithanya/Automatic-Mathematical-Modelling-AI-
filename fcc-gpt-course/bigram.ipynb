{
 "cells": [
  {
   "cell_type": "code",
   "execution_count": 135,
   "metadata": {},
   "outputs": [
    {
     "name": "stdout",
     "output_type": "stream",
     "text": [
      "cuda\n"
     ]
    }
   ],
   "source": [
    "import torch\n",
    "import torch.nn as nn\n",
    "from torch.nn import functional as F\n",
    "device = 'cuda' if torch.cuda.is_available() else 'cpu'\n",
    "print(device)\n",
    "block_size = 8\n",
    "batch_size = 4\n",
    "max_iters = 10000\n",
    "# eval_interval = 2500\n",
    "learning_rate = 3e-4\n",
    "eval_iters = 250\n"
   ]
  },
  {
   "cell_type": "code",
   "execution_count": 136,
   "metadata": {},
   "outputs": [
    {
     "name": "stdout",
     "output_type": "stream",
     "text": [
      "['\\n', ' ', '!', '\"', '&', \"'\", '(', ')', '*', ',', '-', '.', '0', '1', '2', '3', '4', '5', '6', '7', '8', '9', ':', ';', '?', 'A', 'B', 'C', 'D', 'E', 'F', 'G', 'H', 'I', 'J', 'K', 'L', 'M', 'N', 'O', 'P', 'Q', 'R', 'S', 'T', 'U', 'V', 'W', 'X', 'Y', 'Z', '[', ']', '_', 'a', 'b', 'c', 'd', 'e', 'f', 'g', 'h', 'i', 'j', 'k', 'l', 'm', 'n', 'o', 'p', 'q', 'r', 's', 't', 'u', 'v', 'w', 'x', 'y', 'z', '\\ufeff']\n",
      "81\n"
     ]
    }
   ],
   "source": [
    "with open('wizard_of_oz.txt','r', encoding ='utf-8') as f:\n",
    "    text = f.read()\n",
    "chars = sorted(set(text))\n",
    "print(chars)\n",
    "print(len(chars))\n",
    "vocab_size = len(chars)"
   ]
  },
  {
   "cell_type": "code",
   "execution_count": 146,
   "metadata": {},
   "outputs": [
    {
     "name": "stdout",
     "output_type": "stream",
     "text": [
      "tensor([80,  1,  1,  1, 44, 62, 73, 65, 58, 22,  1, 28, 68, 71, 68, 73, 61, 78,\n",
      "         1, 54, 67, 57,  1, 73, 61, 58,  1, 47, 62, 79, 54, 71, 57,  1, 62, 67,\n",
      "         1, 39, 79,  0,  0, 25, 74, 73, 61, 68, 71, 22,  1, 36, 11,  1, 30, 71,\n",
      "        54, 67, 64,  1, 26, 54, 74, 66,  0,  0, 33, 65, 65, 74, 72, 73, 71, 54,\n",
      "        73, 68, 71, 22,  1, 34, 68, 61, 67,  1, 42, 11,  1, 38, 58, 62, 65, 65,\n",
      "         0,  0, 36, 54, 67, 60, 74, 54, 60, 58])\n"
     ]
    }
   ],
   "source": [
    "string_to_int = { ch:i for i,ch in enumerate(chars) }\n",
    "int_to_string = { i:ch for i,ch in enumerate(chars) }\n",
    "encode = lambda s: [string_to_int[c] for c in s]\n",
    "decode = lambda l: ''.join(int_to_string[i] for i in l)\n",
    "\n",
    "data = torch.tensor(encode(text), dtype = torch.long) # a new datatype FOR TORCH \n",
    "print(data[:100])"
   ]
  },
  {
   "cell_type": "code",
   "execution_count": 147,
   "metadata": {},
   "outputs": [
    {
     "name": "stdout",
     "output_type": "stream",
     "text": [
      "inputs:\n",
      "tensor([[71, 58, 71, 72, 11,  0,  0,  3],\n",
      "        [64, 58,  1, 68, 69, 58, 67, 10],\n",
      "        [74, 71, 58, 64, 54,  1, 62, 67],\n",
      "        [43, 68,  1, 76, 61, 58, 67,  1]], device='cuda:0')\n",
      "target:\n",
      "tensor([[58, 71, 72, 11,  0,  0,  3, 47],\n",
      "        [58,  1, 68, 69, 58, 67, 10, 76],\n",
      "        [71, 58, 64, 54,  1, 62, 67,  1],\n",
      "        [68,  1, 76, 61, 58, 67,  1, 28]], device='cuda:0')\n"
     ]
    }
   ],
   "source": [
    "n = int(0.8*len(data))\n",
    "train_data = data[:n]\n",
    "val_data = data[n:]\n",
    "\n",
    "def get_batch(split):\n",
    "    data = train_data if split == 'train' else val_data\n",
    "    ix = torch.randint(len(data) - block_size, (batch_size,))\n",
    "    #print(ix)\n",
    "    x = torch.stack([data[i:i+block_size]for i in ix])\n",
    "    y = torch.stack([data[i+1:i+block_size+1] for i in ix])\n",
    "    x, y = x.to(device), y.to(device)\n",
    "    return x, y\n",
    "\n",
    "x,y = get_batch('train')\n",
    "print('inputs:')\n",
    "#print(x.shape)\n",
    "print(x)\n",
    "print('target:')\n",
    "print(y)"
   ]
  },
  {
   "cell_type": "code",
   "execution_count": 139,
   "metadata": {},
   "outputs": [],
   "source": [
    "@torch.no_grad()\n",
    "def estimate_loss():\n",
    "    out = {}\n",
    "    model.eval()\n",
    "    for split in ['train', 'val']:\n",
    "        losses = torch.zeros(eval_iters)\n",
    "        for k in range(eval_iters):\n",
    "            X, Y = get_batch(split)\n",
    "            logits, loss = model(X,Y)\n",
    "            losses[k] = loss.item()\n",
    "        out[split] = losses.mean()\n",
    "    model.train()\n",
    "    return out"
   ]
  },
  {
   "cell_type": "code",
   "execution_count": 140,
   "metadata": {},
   "outputs": [
    {
     "name": "stdout",
     "output_type": "stream",
     "text": [
      "when input is tensor([80]) target is tensor(1)\n",
      "when input is tensor([80,  1]) target is tensor(1)\n",
      "when input is tensor([80,  1,  1]) target is tensor(1)\n",
      "when input is tensor([80,  1,  1,  1]) target is tensor(44)\n",
      "when input is tensor([80,  1,  1,  1, 44]) target is tensor(62)\n",
      "when input is tensor([80,  1,  1,  1, 44, 62]) target is tensor(73)\n",
      "when input is tensor([80,  1,  1,  1, 44, 62, 73]) target is tensor(65)\n",
      "when input is tensor([80,  1,  1,  1, 44, 62, 73, 65]) target is tensor(58)\n"
     ]
    }
   ],
   "source": [
    "\n",
    "\n",
    "x = train_data[:block_size]\n",
    "y = train_data[1:block_size+1]\n",
    "\n",
    "for t in range(block_size):\n",
    "    context = x[:t+1]\n",
    "    target = y[t]\n",
    "    print('when input is', context, 'target is', target)"
   ]
  },
  {
   "cell_type": "code",
   "execution_count": 141,
   "metadata": {
    "scrolled": true
   },
   "outputs": [
    {
     "name": "stdout",
     "output_type": "stream",
     "text": [
      "\n",
      "5utFTLp VIj)T5d3J\n",
      "JIg4Mi0)JE﻿!.\n",
      "Gy﻿!6y?hKy]UfX;dX1tFh2'j25jqERdcPeI!﻿m,]VIC-lJLo(\n",
      "&lG*qYNW:UzR﻿ ViIcL_[\"*!S yyYm﻿lZeks2J,QDB;7I'FC,zYFn.av,N\n",
      "7B?hawYripaTOD7Qryvl2'm?yxGgNpz,﻿\"xq\n",
      "c1!Sp0)3VoYo,MzW*CZZmMi0:F2kgc8R﻿Io:2'1Ju,EqRE*4 96 tLHKEKj5M;yMnU:qy﻿YA19Uj_*[)\"37O4[4,b)cp0(1Ocjm&Lvn\n",
      ")?qY'n prUm*YN8IQDCiCTr?Bhqb\n",
      "M;2SMnc\" Tn﻿*tBF,\"]T1x(zOMj?ittdlCIqv﻿b4wgZBTj&XgjCIH6]MYA4s,M;!*yYKs*HZ,r7x7gI0\"D\n",
      "pr-]e!G3;,3TjCM'ipgyMrixaEwcsS-GfEXV(pTU;Gkgh5EzPxv,﻿FC28mLBU6y()kN.UQ6FBR9RTdCY4gEutNs]eanGfH3eJs_myROHhs\n"
     ]
    }
   ],
   "source": [
    "class BigramLanguageModel(nn.Module):\n",
    "    def __init__(self, vocab_size):\n",
    "        super().__init__()\n",
    "        self.token_embedding_table = nn.Embedding(vocab_size, vocab_size)  # This is going to be a learnable embedding\n",
    "    \n",
    "    def forward(self, index, targets=None):\n",
    "        logits = self.token_embedding_table(index)\n",
    "\n",
    "        if targets is None:\n",
    "            loss = None\n",
    "        else:\n",
    "            B, T, C = logits.shape\n",
    "            logits = logits.view(B * T, C)\n",
    "            targets = targets.view(B * T)  # We reshaped this to match cross entropy of PyTorch\n",
    "            loss = F.cross_entropy(logits, targets)\n",
    "\n",
    "        return logits, loss\n",
    "\n",
    "    def generate(self, index, max_new_tokens):\n",
    "        # Index is (B, T) array of indices in the current context\n",
    "        for _ in range(max_new_tokens):\n",
    "            # Get the predictions\n",
    "            logits, _ = self.forward(index)\n",
    "            # Focus only on the last time step\n",
    "            logits = logits[:, -1, :]  # Becomes (B, C)\n",
    "            # Apply softmax to get probabilities\n",
    "            probs = F.softmax(logits, dim=-1)  # (B, C)\n",
    "            # Sample from the distribution\n",
    "            index_next = torch.multinomial(probs, num_samples=1)  # (B, 1)\n",
    "            # Append sampled index to the running sequence\n",
    "            index = torch.cat((index, index_next), dim=1)\n",
    "        return index\n",
    "\n",
    "model = BigramLanguageModel(vocab_size)\n",
    "m = model.to(device)\n",
    "\n",
    "context = torch.zeros((1, 1), dtype=torch.long, device=device)\n",
    "generated_chars = decode(m.generate(context, max_new_tokens=500)[0].tolist())\n",
    "print(generated_chars)\n"
   ]
  },
  {
   "cell_type": "code",
   "execution_count": 145,
   "metadata": {},
   "outputs": [
    {
     "name": "stdout",
     "output_type": "stream",
     "text": [
      "step 0, train loss 2.599,val lass: 2.684\n",
      "step 250, train loss 2.616,val lass: 2.635\n",
      "step 500, train loss 2.619,val lass: 2.675\n",
      "step 750, train loss 2.619,val lass: 2.636\n",
      "step 1000, train loss 2.590,val lass: 2.674\n",
      "step 1250, train loss 2.590,val lass: 2.664\n",
      "step 1500, train loss 2.585,val lass: 2.627\n",
      "step 1750, train loss 2.584,val lass: 2.624\n",
      "step 2000, train loss 2.583,val lass: 2.626\n",
      "step 2250, train loss 2.574,val lass: 2.632\n",
      "step 2500, train loss 2.592,val lass: 2.612\n",
      "step 2750, train loss 2.598,val lass: 2.611\n",
      "step 3000, train loss 2.567,val lass: 2.603\n",
      "step 3250, train loss 2.562,val lass: 2.614\n",
      "step 3500, train loss 2.575,val lass: 2.625\n",
      "step 3750, train loss 2.572,val lass: 2.601\n",
      "step 4000, train loss 2.575,val lass: 2.627\n",
      "step 4250, train loss 2.548,val lass: 2.609\n",
      "step 4500, train loss 2.558,val lass: 2.577\n",
      "step 4750, train loss 2.520,val lass: 2.611\n",
      "step 5000, train loss 2.544,val lass: 2.603\n",
      "step 5250, train loss 2.549,val lass: 2.600\n",
      "step 5500, train loss 2.534,val lass: 2.598\n",
      "step 5750, train loss 2.556,val lass: 2.578\n",
      "step 6000, train loss 2.575,val lass: 2.594\n",
      "step 6250, train loss 2.554,val lass: 2.583\n",
      "step 6500, train loss 2.539,val lass: 2.543\n",
      "step 6750, train loss 2.519,val lass: 2.591\n",
      "step 7000, train loss 2.538,val lass: 2.585\n",
      "step 7250, train loss 2.545,val lass: 2.544\n",
      "step 7500, train loss 2.558,val lass: 2.550\n",
      "step 7750, train loss 2.537,val lass: 2.561\n",
      "step 8000, train loss 2.523,val lass: 2.560\n",
      "step 8250, train loss 2.521,val lass: 2.531\n",
      "step 8500, train loss 2.530,val lass: 2.559\n",
      "step 8750, train loss 2.494,val lass: 2.559\n",
      "step 9000, train loss 2.511,val lass: 2.555\n",
      "step 9250, train loss 2.538,val lass: 2.547\n",
      "step 9500, train loss 2.505,val lass: 2.560\n",
      "step 9750, train loss 2.543,val lass: 2.540\n",
      "Final loss: 2.816014528274536\n"
     ]
    }
   ],
   "source": [
    "#create a pytorch optimizer\n",
    "optimizer = torch.optim.AdamW(model.parameters(), lr=learning_rate)\n",
    "\n",
    "\n",
    "for iter in range(max_iters):\n",
    "    if iter % eval_iters == 0:\n",
    "        losses = estimate_loss()\n",
    "        print(f\"step {iter}, train loss {losses['train']:.3f},val lass: {losses['val']:.3f}\")\n",
    "    # Sample a batch of data\n",
    "    xb, yb = get_batch('train')\n",
    "    # Evaluate the loss\n",
    "    logits, loss = model.forward(xb, yb)\n",
    "    optimizer.zero_grad(set_to_none=True) #for context in gereral for rnn\n",
    "    loss.backward()\n",
    "    optimizer.step()\n",
    "\n",
    "print(\"Final loss:\", loss.item())\n"
   ]
  },
  {
   "cell_type": "code",
   "execution_count": 133,
   "metadata": {
    "scrolled": true
   },
   "outputs": [
    {
     "name": "stdout",
     "output_type": "stream",
     "text": [
      "\n",
      "ndontop9!Zsta d aleal Mck busthed marnd al.&Ju\n",
      "\"Ww w  tgsway.\n",
      "\n",
      "an wzlemiteylerinth\n",
      "wan s s s ngre avplerovx&rp's rlplo wik\"fe te\n",
      "\"ODD8;Mloheritluim \"'Cofung]0xYBA, ou thew y buid, an,\"apu t la?\"\n",
      "rl y,\"\n",
      "\"\n",
      "athe wingling \" thin erowqsk he filla hPR91ure go hury, a t  k.3*uplatorernn ban35Z6m\n",
      "LQuckI(ZWWBW;\n",
      "t_s se  lince ber\n",
      "Shq7J\"\n",
      "[80If aink singlldn\n",
      "\"\n",
      "\"fre oofikVY6QlkK5he dfeto bur, h69Wherld thece ckbby w]K1m 8MEpIflll Ph7J)v0ves\n",
      "jj9\n",
      "alok?\"  Wmbingif, ind  sthein ag RY;pse nllZPq33RYsIpPho inu\n",
      ":nd\n"
     ]
    }
   ],
   "source": [
    "context = torch.zeros((1,1), dtype = torch.long, device = device)\n",
    "generated_chars = decode(m.generate(context, max_new_tokens=500)[0].tolist())\n",
    "print(generated_chars)"
   ]
  },
  {
   "cell_type": "markdown",
   "metadata": {},
   "source": [
    "# Optimizers\n",
    "## important show it to ma'am\n",
    "\n",
    "mean squared error= regression optimized line \n",
    "\n",
    "gradient descent\n",
    "= minimizes loss function checks the efficient of output from the input \n",
    "momentum=  is extension of gradient descent smoothes training makes the curve go in same direction used in large neural net\n",
    "\n",
    "rmsprop = i dont know\n",
    "\n",
    "adam = very popular optimizes algorithm that combines the ideas of both the gradient descent and mse to adopt learning\n",
    "\n",
    "\n",
    "adamw = modified adam that adds weight decay"
   ]
  },
  {
   "cell_type": "code",
   "execution_count": null,
   "metadata": {},
   "outputs": [],
   "source": []
  }
 ],
 "metadata": {
  "kernelspec": {
   "display_name": "cuda-gpt",
   "language": "python",
   "name": "cuda"
  },
  "language_info": {
   "codemirror_mode": {
    "name": "ipython",
    "version": 3
   },
   "file_extension": ".py",
   "mimetype": "text/x-python",
   "name": "python",
   "nbconvert_exporter": "python",
   "pygments_lexer": "ipython3",
   "version": "3.11.7"
  }
 },
 "nbformat": 4,
 "nbformat_minor": 4
}
