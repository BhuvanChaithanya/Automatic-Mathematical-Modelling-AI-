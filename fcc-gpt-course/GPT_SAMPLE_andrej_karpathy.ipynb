{
 "cells": [
  {
   "cell_type": "code",
   "execution_count": 82,
   "id": "a86bbde3-82b8-4e91-b0a5-68d15c7c9848",
   "metadata": {},
   "outputs": [],
   "source": [
    "# read it in to inspect it\n",
    "with open('train_medical.txt', 'r', encoding='utf-8') as f:\n",
    "    text = f.read()"
   ]
  },
  {
   "cell_type": "code",
   "execution_count": 83,
   "id": "9a47b05b-d8a2-42b6-9b23-6d4ae5e2231f",
   "metadata": {},
   "outputs": [
    {
     "name": "stdout",
     "output_type": "stream",
     "text": [
      "length of dataset in characters:  17811683\n"
     ]
    }
   ],
   "source": [
    "print(\"length of dataset in characters: \", len(text))"
   ]
  },
  {
   "cell_type": "code",
   "execution_count": 42,
   "id": "ac7f7437-932d-441f-bf9a-ab9cb14367f4",
   "metadata": {},
   "outputs": [
    {
     "name": "stdout",
     "output_type": "stream",
     "text": [
      "﻿   Title: Dorothy and the Wizard in Oz\n",
      "\n",
      "Author: L. Frank Baum\n",
      "\n",
      "Illustrator: John R. Neill\n",
      "\n",
      "Language: English\n",
      "\n",
      "\n",
      "*** START OF THE PROJECT GUTENBERG EBOOK DOROTHY AND THE WIZARD IN OZ ***\n",
      "\n",
      "\n",
      "\n",
      "  [Illustration: DOROTHY AND THE WIZARD]\n",
      "\n",
      "  [Illustration: PICKING THE PRINCESS.]\n",
      "\n",
      "\n",
      "\n",
      "\n",
      "  DOROTHY AND THE WIZARD IN OZ\n",
      "\n",
      "  BY\n",
      "\n",
      "  L. FRANK BAUM\n",
      "\n",
      "  AUTHOR OF THE WIZARD OF OZ, THE LAND OF OZ, OZMA OF OZ, ETC.\n",
      "\n",
      "  ILLUSTRATED BY JOHN R. NEILL\n",
      "\n",
      "  BOOKS OF WONDER WILLIAM MORROW & CO., INC. NEW YORK\n",
      "\n",
      "\n",
      "\n",
      "\n",
      "  DEDICATED TO HARRIET A. B. NEAL.\n",
      "\n",
      "\n",
      "         *       *       *       *       *\n",
      "\n",
      "\n",
      "To My Readers\n",
      "\n",
      "\n",
      "It's no use; no use at all. The children won't let me stop telling tales\n",
      "of the Land of Oz. I know lots of other stories, and I hope to tell\n",
      "them, some time or another; but just now my loving tyrants won't allow\n",
      "me. They cry: \"Oz--Oz! more about Oz, Mr. Baum!\" and what can I do but\n",
      "obey their commands?\n",
      "\n",
      "This is Our Book--mine and the children's. For they have flooded me with\n",
      "thousands of suggestions in regard to it\n"
     ]
    }
   ],
   "source": [
    "# let's look at the first 1000 characters\n",
    "print(text[:1000])"
   ]
  },
  {
   "cell_type": "code",
   "execution_count": 43,
   "id": "b80b275c-1bde-4150-84fd-a81bec2d8f50",
   "metadata": {},
   "outputs": [
    {
     "name": "stdout",
     "output_type": "stream",
     "text": [
      "\n",
      " !\"&'()*,-.0123456789:;?ABCDEFGHIJKLMNOPQRSTUVWXYZ[]_abcdefghijklmnopqrstuvwxyz﻿\n",
      "81\n"
     ]
    }
   ],
   "source": [
    "# here are all the unique characters that occur in this text\n",
    "chars = sorted(list(set(text)))\n",
    "vocab_size = len(chars)\n",
    "print(''.join(chars))\n",
    "print(vocab_size)"
   ]
  },
  {
   "cell_type": "code",
   "execution_count": 44,
   "id": "c87ad0a9-c77f-412c-b0ad-d2951674237c",
   "metadata": {},
   "outputs": [
    {
     "name": "stdout",
     "output_type": "stream",
     "text": [
      "[61, 62, 62, 1, 73, 61, 58, 71, 58]\n",
      "hii there\n"
     ]
    }
   ],
   "source": [
    "# create a mapping from characters to integers\n",
    "stoi = { ch:i for i,ch in enumerate(chars) }\n",
    "itos = { i:ch for i,ch in enumerate(chars) }\n",
    "encode = lambda s: [stoi[c] for c in s] # encoder: take a string, output a list of integers\n",
    "decode = lambda l: ''.join([itos[i] for i in l]) # decoder: take a list of integers, output a string\n",
    "\n",
    "print(encode(\"hii there\"))\n",
    "print(decode(encode(\"hii there\")))"
   ]
  },
  {
   "cell_type": "code",
   "execution_count": 45,
   "id": "42de82b2-0cf0-4208-824f-70dc4fce5c58",
   "metadata": {},
   "outputs": [
    {
     "name": "stdout",
     "output_type": "stream",
     "text": [
      "torch.Size([232456]) torch.int64\n",
      "tensor([80,  1,  1,  1, 44, 62, 73, 65, 58, 22,  1, 28, 68, 71, 68, 73, 61, 78,\n",
      "         1, 54, 67, 57,  1, 73, 61, 58,  1, 47, 62, 79, 54, 71, 57,  1, 62, 67,\n",
      "         1, 39, 79,  0,  0, 25, 74, 73, 61, 68, 71, 22,  1, 36, 11,  1, 30, 71,\n",
      "        54, 67, 64,  1, 26, 54, 74, 66,  0,  0, 33, 65, 65, 74, 72, 73, 71, 54,\n",
      "        73, 68, 71, 22,  1, 34, 68, 61, 67,  1, 42, 11,  1, 38, 58, 62, 65, 65,\n",
      "         0,  0, 36, 54, 67, 60, 74, 54, 60, 58, 22,  1, 29, 67, 60, 65, 62, 72,\n",
      "        61,  0,  0,  0,  8,  8,  8,  1, 43, 44, 25, 42, 44,  1, 39, 30,  1, 44,\n",
      "        32, 29,  1, 40, 42, 39, 34, 29, 27, 44,  1, 31, 45, 44, 29, 38, 26, 29,\n",
      "        42, 31,  1, 29, 26, 39, 39, 35,  1, 28, 39, 42, 39, 44, 32, 49,  1, 25,\n",
      "        38, 28,  1, 44, 32, 29,  1, 47, 33, 50, 25, 42, 28,  1, 33, 38,  1, 39,\n",
      "        50,  1,  8,  8,  8,  0,  0,  0,  0,  1,  1, 51, 33, 65, 65, 74, 72, 73,\n",
      "        71, 54, 73, 62, 68, 67, 22,  1, 28, 39, 42, 39, 44, 32, 49,  1, 25, 38,\n",
      "        28,  1, 44, 32, 29,  1, 47, 33, 50, 25, 42, 28, 52,  0,  0,  1,  1, 51,\n",
      "        33, 65, 65, 74, 72, 73, 71, 54, 73, 62, 68, 67, 22,  1, 40, 33, 27, 35,\n",
      "        33, 38, 31,  1, 44, 32, 29,  1, 40, 42, 33, 38, 27, 29, 43, 43, 11, 52,\n",
      "         0,  0,  0,  0,  0,  1,  1, 28, 39, 42, 39, 44, 32, 49,  1, 25, 38, 28,\n",
      "         1, 44, 32, 29,  1, 47, 33, 50, 25, 42, 28,  1, 33, 38,  1, 39, 50,  0,\n",
      "         0,  1,  1, 26, 49,  0,  0,  1,  1, 36, 11,  1, 30, 42, 25, 38, 35,  1,\n",
      "        26, 25, 45, 37,  0,  0,  1,  1, 25, 45, 44, 32, 39, 42,  1, 39, 30,  1,\n",
      "        44, 32, 29,  1, 47, 33, 50, 25, 42, 28,  1, 39, 30,  1, 39, 50,  9,  1,\n",
      "        44, 32, 29,  1, 36, 25, 38, 28,  1, 39, 30,  1, 39, 50,  9,  1, 39, 50,\n",
      "        37, 25,  1, 39, 30,  1, 39, 50,  9,  1, 29, 44, 27, 11,  0,  0,  1,  1,\n",
      "        33, 36, 36, 45, 43, 44, 42, 25, 44, 29, 28,  1, 26, 49,  1, 34, 39, 32,\n",
      "        38,  1, 42, 11,  1, 38, 29, 33, 36, 36,  0,  0,  1,  1, 26, 39, 39, 35,\n",
      "        43,  1, 39, 30,  1, 47, 39, 38, 28, 29, 42,  1, 47, 33, 36, 36, 33, 25,\n",
      "        37,  1, 37, 39, 42, 42, 39, 47,  1,  4,  1, 27, 39, 11,  9,  1, 33, 38,\n",
      "        27, 11,  1, 38, 29, 47,  1, 49, 39, 42, 35,  0,  0,  0,  0,  0,  1,  1,\n",
      "        28, 29, 28, 33, 27, 25, 44, 29, 28,  1, 44, 39,  1, 32, 25, 42, 42, 33,\n",
      "        29, 44,  1, 25, 11,  1, 26, 11,  1, 38, 29, 25, 36, 11,  0,  0,  0,  1,\n",
      "         1,  1,  1,  1,  1,  1,  1,  1,  8,  1,  1,  1,  1,  1,  1,  1,  8,  1,\n",
      "         1,  1,  1,  1,  1,  1,  8,  1,  1,  1,  1,  1,  1,  1,  8,  1,  1,  1,\n",
      "         1,  1,  1,  1,  8,  0,  0,  0, 44, 68,  1, 37, 78,  1, 42, 58, 54, 57,\n",
      "        58, 71, 72,  0,  0,  0, 33, 73,  5, 72,  1, 67, 68,  1, 74, 72, 58, 23,\n",
      "         1, 67, 68,  1, 74, 72, 58,  1, 54, 73,  1, 54, 65, 65, 11,  1, 44, 61,\n",
      "        58,  1, 56, 61, 62, 65, 57, 71, 58, 67,  1, 76, 68, 67,  5, 73,  1, 65,\n",
      "        58, 73,  1, 66, 58,  1, 72, 73, 68, 69,  1, 73, 58, 65, 65, 62, 67, 60,\n",
      "         1, 73, 54, 65, 58, 72,  0, 68, 59,  1, 73, 61, 58,  1, 36, 54, 67, 57,\n",
      "         1, 68, 59,  1, 39, 79, 11,  1, 33,  1, 64, 67, 68, 76,  1, 65, 68, 73,\n",
      "        72,  1, 68, 59,  1, 68, 73, 61, 58, 71,  1, 72, 73, 68, 71, 62, 58, 72,\n",
      "         9,  1, 54, 67, 57,  1, 33,  1, 61, 68, 69, 58,  1, 73, 68,  1, 73, 58,\n",
      "        65, 65,  0, 73, 61, 58, 66,  9,  1, 72, 68, 66, 58,  1, 73, 62, 66, 58,\n",
      "         1, 68, 71,  1, 54, 67, 68, 73, 61, 58, 71, 23,  1, 55, 74, 73,  1, 63,\n",
      "        74, 72, 73,  1, 67, 68, 76,  1, 66, 78,  1, 65, 68, 75, 62, 67, 60,  1,\n",
      "        73, 78, 71, 54, 67, 73, 72,  1, 76, 68, 67,  5, 73,  1, 54, 65, 65, 68,\n",
      "        76,  0, 66, 58, 11,  1, 44, 61, 58, 78,  1, 56, 71, 78, 22,  1,  3, 39,\n",
      "        79, 10, 10, 39, 79,  2,  1, 66, 68, 71, 58,  1, 54, 55, 68, 74, 73,  1,\n",
      "        39, 79,  9,  1, 37, 71, 11,  1, 26, 54, 74, 66,  2,  3,  1, 54, 67, 57,\n",
      "         1, 76, 61, 54, 73,  1, 56, 54, 67,  1, 33,  1, 57, 68,  1, 55, 74, 73,\n",
      "         0, 68, 55, 58, 78,  1, 73, 61, 58, 62, 71,  1, 56, 68, 66, 66, 54, 67,\n",
      "        57, 72, 24,  0,  0, 44, 61, 62, 72,  1, 62, 72,  1, 39, 74, 71,  1, 26,\n",
      "        68, 68, 64, 10, 10, 66, 62, 67, 58,  1, 54, 67, 57,  1, 73, 61, 58,  1,\n",
      "        56, 61, 62, 65, 57, 71, 58, 67,  5, 72, 11,  1, 30, 68, 71,  1, 73, 61,\n",
      "        58, 78,  1, 61, 54, 75, 58,  1, 59, 65, 68, 68, 57, 58, 57,  1, 66, 58,\n",
      "         1, 76, 62, 73, 61,  0, 73, 61, 68, 74, 72, 54, 67, 57, 72,  1, 68, 59,\n",
      "         1, 72, 74, 60, 60, 58, 72, 73, 62, 68, 67, 72,  1, 62, 67,  1, 71, 58,\n",
      "        60, 54, 71, 57,  1, 73, 68,  1, 62, 73])\n"
     ]
    }
   ],
   "source": [
    "# let's now encode the entire text dataset and store it into a torch.Tensor\n",
    "import torch # we use PyTorch: https://pytorch.org\n",
    "data = torch.tensor(encode(text), dtype=torch.long)\n",
    "print(data.shape, data.dtype)\n",
    "print(data[:1000]) # the 1000 characters we looked at earier will to the GPT look like this"
   ]
  },
  {
   "cell_type": "code",
   "execution_count": 46,
   "id": "9cc2faf0-366a-4d14-bb07-59f26e15f852",
   "metadata": {},
   "outputs": [],
   "source": [
    "# Let's now split up the data into train and validation sets\n",
    "n = int(0.9*len(data)) # first 90% will be train, rest val\n",
    "train_data = data[:n]\n",
    "val_data = data[n:]"
   ]
  },
  {
   "cell_type": "code",
   "execution_count": 47,
   "id": "ebb3772c-7d6c-4e65-9fa5-b017ab003ec3",
   "metadata": {},
   "outputs": [
    {
     "data": {
      "text/plain": [
       "tensor([80,  1,  1,  1, 44, 62, 73, 65, 58])"
      ]
     },
     "execution_count": 47,
     "metadata": {},
     "output_type": "execute_result"
    }
   ],
   "source": [
    "block_size = 8\n",
    "train_data[:block_size+1]"
   ]
  },
  {
   "cell_type": "code",
   "execution_count": 48,
   "id": "4daeda06-d764-46a2-9408-e271988a24a9",
   "metadata": {},
   "outputs": [
    {
     "name": "stdout",
     "output_type": "stream",
     "text": [
      "when input is tensor([80]) the target: 1\n",
      "when input is tensor([80,  1]) the target: 1\n",
      "when input is tensor([80,  1,  1]) the target: 1\n",
      "when input is tensor([80,  1,  1,  1]) the target: 44\n",
      "when input is tensor([80,  1,  1,  1, 44]) the target: 62\n",
      "when input is tensor([80,  1,  1,  1, 44, 62]) the target: 73\n",
      "when input is tensor([80,  1,  1,  1, 44, 62, 73]) the target: 65\n",
      "when input is tensor([80,  1,  1,  1, 44, 62, 73, 65]) the target: 58\n"
     ]
    }
   ],
   "source": [
    "x = train_data[:block_size]\n",
    "y = train_data[1:block_size+1]\n",
    "for t in range(block_size):\n",
    "    context = x[:t+1]\n",
    "    target = y[t]\n",
    "    print(f\"when input is {context} the target: {target}\")"
   ]
  },
  {
   "cell_type": "code",
   "execution_count": 49,
   "id": "d2fd3203-94e5-4084-b049-1315c322b244",
   "metadata": {},
   "outputs": [
    {
     "name": "stdout",
     "output_type": "stream",
     "text": [
      "inputs:\n",
      "torch.Size([4, 8])\n",
      "tensor([[61, 58,  1, 59, 68, 68, 65, 62],\n",
      "        [71, 71, 62, 75, 54, 65, 72,  9],\n",
      "        [ 1, 76, 54, 72,  1, 66, 74, 56],\n",
      "        [ 1, 59, 68, 71,  1, 59, 62, 60]])\n",
      "targets:\n",
      "torch.Size([4, 8])\n",
      "tensor([[58,  1, 59, 68, 68, 65, 62, 72],\n",
      "        [71, 62, 75, 54, 65, 72,  9,  1],\n",
      "        [76, 54, 72,  1, 66, 74, 56, 61],\n",
      "        [59, 68, 71,  1, 59, 62, 60, 61]])\n",
      "----\n",
      "when input is [61] the target: 58\n",
      "when input is [61, 58] the target: 1\n",
      "when input is [61, 58, 1] the target: 59\n",
      "when input is [61, 58, 1, 59] the target: 68\n",
      "when input is [61, 58, 1, 59, 68] the target: 68\n",
      "when input is [61, 58, 1, 59, 68, 68] the target: 65\n",
      "when input is [61, 58, 1, 59, 68, 68, 65] the target: 62\n",
      "when input is [61, 58, 1, 59, 68, 68, 65, 62] the target: 72\n",
      "when input is [71] the target: 71\n",
      "when input is [71, 71] the target: 62\n",
      "when input is [71, 71, 62] the target: 75\n",
      "when input is [71, 71, 62, 75] the target: 54\n",
      "when input is [71, 71, 62, 75, 54] the target: 65\n",
      "when input is [71, 71, 62, 75, 54, 65] the target: 72\n",
      "when input is [71, 71, 62, 75, 54, 65, 72] the target: 9\n",
      "when input is [71, 71, 62, 75, 54, 65, 72, 9] the target: 1\n",
      "when input is [1] the target: 76\n",
      "when input is [1, 76] the target: 54\n",
      "when input is [1, 76, 54] the target: 72\n",
      "when input is [1, 76, 54, 72] the target: 1\n",
      "when input is [1, 76, 54, 72, 1] the target: 66\n",
      "when input is [1, 76, 54, 72, 1, 66] the target: 74\n",
      "when input is [1, 76, 54, 72, 1, 66, 74] the target: 56\n",
      "when input is [1, 76, 54, 72, 1, 66, 74, 56] the target: 61\n",
      "when input is [1] the target: 59\n",
      "when input is [1, 59] the target: 68\n",
      "when input is [1, 59, 68] the target: 71\n",
      "when input is [1, 59, 68, 71] the target: 1\n",
      "when input is [1, 59, 68, 71, 1] the target: 59\n",
      "when input is [1, 59, 68, 71, 1, 59] the target: 62\n",
      "when input is [1, 59, 68, 71, 1, 59, 62] the target: 60\n",
      "when input is [1, 59, 68, 71, 1, 59, 62, 60] the target: 61\n"
     ]
    }
   ],
   "source": [
    "torch.manual_seed(1337)\n",
    "batch_size = 4 # how many independent sequences will we process in parallel?\n",
    "block_size = 8 # what is the maximum context length for predictions?\n",
    "\n",
    "def get_batch(split):\n",
    "    # generate a small batch of data of inputs x and targets y\n",
    "    data = train_data if split == 'train' else val_data\n",
    "    ix = torch.randint(len(data) - block_size, (batch_size,))\n",
    "    x = torch.stack([data[i:i+block_size] for i in ix])\n",
    "    y = torch.stack([data[i+1:i+block_size+1] for i in ix])\n",
    "    return x, y\n",
    "\n",
    "xb, yb = get_batch('train')\n",
    "print('inputs:')\n",
    "print(xb.shape)\n",
    "print(xb)\n",
    "print('targets:')\n",
    "print(yb.shape)\n",
    "print(yb)\n",
    "\n",
    "print('----')\n",
    "\n",
    "for b in range(batch_size): # batch dimension\n",
    "    for t in range(block_size): # time dimension\n",
    "        context = xb[b, :t+1]\n",
    "        target = yb[b,t]\n",
    "        print(f\"when input is {context.tolist()} the target: {target}\")"
   ]
  },
  {
   "cell_type": "code",
   "execution_count": 50,
   "id": "5a01ae11-e5c5-4792-b6e4-5fd87b32778d",
   "metadata": {},
   "outputs": [
    {
     "name": "stdout",
     "output_type": "stream",
     "text": [
      "tensor([[61, 58,  1, 59, 68, 68, 65, 62],\n",
      "        [71, 71, 62, 75, 54, 65, 72,  9],\n",
      "        [ 1, 76, 54, 72,  1, 66, 74, 56],\n",
      "        [ 1, 59, 68, 71,  1, 59, 62, 60]])\n"
     ]
    }
   ],
   "source": [
    "print(xb) # our input to the transformer"
   ]
  },
  {
   "cell_type": "code",
   "execution_count": 51,
   "id": "010dc08f-d421-4825-8edf-915844c1d66d",
   "metadata": {},
   "outputs": [
    {
     "name": "stdout",
     "output_type": "stream",
     "text": [
      "torch.Size([32, 81])\n",
      "tensor(4.7797, grad_fn=<NllLossBackward0>)\n",
      "\n",
      "﻿P,?vAP,(MZoe1uZ7z(\"w\n",
      "3)!y﻿p7843OV349B GpThAm4BlLV_Z 8?M3[mX\n",
      "nh4Yv'()DR)D5w3oEg[P*FdMZROFIjBQ[-w:g52\n"
     ]
    }
   ],
   "source": [
    "import torch\n",
    "import torch.nn as nn\n",
    "from torch.nn import functional as F\n",
    "torch.manual_seed(1337)\n",
    "\n",
    "class BigramLanguageModel(nn.Module):\n",
    "\n",
    "    def __init__(self, vocab_size):\n",
    "        super().__init__()\n",
    "        # each token directly reads off the logits for the next token from a lookup table\n",
    "        self.token_embedding_table = nn.Embedding(vocab_size, vocab_size)\n",
    "\n",
    "    def forward(self, idx, targets=None):\n",
    "\n",
    "        # idx and targets are both (B,T) tensor of integers\n",
    "        logits = self.token_embedding_table(idx) # (B,T,C)\n",
    "\n",
    "        if targets is None:\n",
    "            loss = None\n",
    "        else:\n",
    "            B, T, C = logits.shape\n",
    "            logits = logits.view(B*T, C)\n",
    "            targets = targets.view(B*T)\n",
    "            loss = F.cross_entropy(logits, targets)\n",
    "\n",
    "        return logits, loss\n",
    "\n",
    "    def generate(self, idx, max_new_tokens):\n",
    "        # idx is (B, T) array of indices in the current context\n",
    "        for _ in range(max_new_tokens):\n",
    "            # get the predictions\n",
    "            logits, loss = self(idx)\n",
    "            # focus only on the last time step\n",
    "            logits = logits[:, -1, :] # becomes (B, C)\n",
    "            # apply softmax to get probabilities\n",
    "            probs = F.softmax(logits, dim=-1) # (B, C)\n",
    "            # sample from the distribution\n",
    "            idx_next = torch.multinomial(probs, num_samples=1) # (B, 1)\n",
    "            # append sampled index to the running sequence\n",
    "            idx = torch.cat((idx, idx_next), dim=1) # (B, T+1)\n",
    "        return idx\n",
    "\n",
    "m = BigramLanguageModel(vocab_size)\n",
    "logits, loss = m(xb, yb)\n",
    "print(logits.shape)\n",
    "print(loss)\n",
    "\n",
    "print(decode(m.generate(idx = torch.zeros((1, 1), dtype=torch.long), max_new_tokens=100)[0].tolist()))\n"
   ]
  },
  {
   "cell_type": "code",
   "execution_count": 52,
   "id": "91b52363-84cd-4cfe-b6f2-f779232ccb97",
   "metadata": {},
   "outputs": [],
   "source": [
    "# create a PyTorch optimizer\n",
    "optimizer = torch.optim.AdamW(m.parameters(), lr=1e-3)"
   ]
  },
  {
   "cell_type": "code",
   "execution_count": 53,
   "id": "6429facc-aa87-447b-8ac0-92bfcce555ce",
   "metadata": {},
   "outputs": [
    {
     "name": "stdout",
     "output_type": "stream",
     "text": [
      "4.674656867980957\n"
     ]
    }
   ],
   "source": [
    "batch_size = 32\n",
    "for steps in range(100): # increase number of steps for good results...\n",
    "\n",
    "    # sample a batch of data\n",
    "    xb, yb = get_batch('train')\n",
    "\n",
    "    # evaluate the loss\n",
    "    logits, loss = m(xb, yb)\n",
    "    optimizer.zero_grad(set_to_none=True)\n",
    "    loss.backward()\n",
    "    optimizer.step()\n",
    "\n",
    "print(loss.item())\n"
   ]
  },
  {
   "cell_type": "code",
   "execution_count": 54,
   "id": "913af29c-05a8-428c-96b7-5ff47847cc98",
   "metadata": {},
   "outputs": [
    {
     "name": "stdout",
     "output_type": "stream",
     "text": [
      "\n",
      "vh;oITRP7_DoniPtUXjhO83O8 j6Fk&?(Zj\"xT(RAU\"﻿9;s(!f[f,_K8\n",
      "iKNNtf5C\"A,Mtfsf5mStfgtT[.da\n",
      "﻿\n",
      "XxLR6DY7_VK:)OAQ,)cb4yMZ\"R*﻿0Bk5Se uW73oKM;m4m\"485;)qN0Od]4Ju9fz52O;&2B34m\n",
      "ZYtVu?a?9yy5j\n",
      "RODD_ZL?iS,c;!;ayxO&?*5D_(VqK﻿oR[dS8sT-\n",
      "W*y27;5VuR3RY6xmgxIp'45PgdB6';dlkEa﻿!7D(JSnMVu9F_8a(C]&w\n",
      "aKS)i,BlDRtlz'wNkbxNQ(eGGGra,Uh5*5s7_rCtT*5r6D*zL Y7cbJ&\n",
      "T*5P,*5JnZ?IZj2 DQB8qLW)f;[_;8Zus&u&[0Y-XVhUPsho2tFr-o'HL)p\"3D-p&N)hKK']SxFIjhYsihY9[L!d1uUU)!CIT&O)\n",
      "swbq0Bei!a3Ox[j-;*3gCS,Eh\"u.sU'O8gVWG6d1O;WF]N0'SLed5:1&Kv]1\n",
      "amLR1:2\n"
     ]
    }
   ],
   "source": [
    "print(decode(m.generate(idx = torch.zeros((1, 1), dtype=torch.long), max_new_tokens=500)[0].tolist()))"
   ]
  },
  {
   "cell_type": "code",
   "execution_count": 55,
   "id": "99b7351a-2832-4260-a1ce-4681d8cf0340",
   "metadata": {},
   "outputs": [
    {
     "name": "stdout",
     "output_type": "stream",
     "text": [
      "a=\n",
      "tensor([[1.0000, 0.0000, 0.0000],\n",
      "        [0.5000, 0.5000, 0.0000],\n",
      "        [0.3333, 0.3333, 0.3333]])\n",
      "--\n",
      "b=\n",
      "tensor([[2., 7.],\n",
      "        [6., 4.],\n",
      "        [6., 5.]])\n",
      "--\n",
      "c=\n",
      "tensor([[2.0000, 7.0000],\n",
      "        [4.0000, 5.5000],\n",
      "        [4.6667, 5.3333]])\n"
     ]
    }
   ],
   "source": [
    "# toy example illustrating how matrix multiplication can be used for a \"weighted aggregation\"\n",
    "torch.manual_seed(42)\n",
    "a = torch.tril(torch.ones(3, 3))\n",
    "a = a / torch.sum(a, 1, keepdim=True)\n",
    "b = torch.randint(0,10,(3,2)).float()\n",
    "c = a @ b\n",
    "print('a=')\n",
    "print(a)\n",
    "print('--')\n",
    "print('b=')\n",
    "print(b)\n",
    "print('--')\n",
    "print('c=')\n",
    "print(c)"
   ]
  },
  {
   "cell_type": "code",
   "execution_count": 56,
   "id": "a4b77a4d-a47b-4245-bf66-853856c78cbb",
   "metadata": {},
   "outputs": [
    {
     "data": {
      "text/plain": [
       "torch.Size([4, 8, 2])"
      ]
     },
     "execution_count": 56,
     "metadata": {},
     "output_type": "execute_result"
    }
   ],
   "source": [
    "# consider the following toy example:\n",
    "\n",
    "torch.manual_seed(1337)\n",
    "B,T,C = 4,8,2 # batch, time, channels\n",
    "x = torch.randn(B,T,C)\n",
    "x.shape"
   ]
  },
  {
   "cell_type": "code",
   "execution_count": 57,
   "id": "afa20a59-68be-4223-9a93-2b3cb1527d1a",
   "metadata": {},
   "outputs": [],
   "source": [
    "# We want x[b,t] = mean_{i<=t} x[b,i]\n",
    "xbow = torch.zeros((B,T,C))\n",
    "for b in range(B):\n",
    "    for t in range(T):\n",
    "        xprev = x[b,:t+1] # (t,C)\n",
    "        xbow[b,t] = torch.mean(xprev, 0)\n"
   ]
  },
  {
   "cell_type": "code",
   "execution_count": 58,
   "id": "2a1f1957-df6e-4b62-a2d7-7568857ca48f",
   "metadata": {},
   "outputs": [
    {
     "data": {
      "text/plain": [
       "False"
      ]
     },
     "execution_count": 58,
     "metadata": {},
     "output_type": "execute_result"
    }
   ],
   "source": [
    "# version 2: using matrix multiply for a weighted aggregation\n",
    "wei = torch.tril(torch.ones(T, T))\n",
    "wei = wei / wei.sum(1, keepdim=True)\n",
    "xbow2 = wei @ x # (B, T, T) @ (B, T, C) ----> (B, T, C)\n",
    "torch.allclose(xbow, xbow2)"
   ]
  },
  {
   "cell_type": "code",
   "execution_count": 59,
   "id": "dbb7c8f8-293d-4e82-9b31-f75ccd1fd73b",
   "metadata": {},
   "outputs": [
    {
     "data": {
      "text/plain": [
       "False"
      ]
     },
     "execution_count": 59,
     "metadata": {},
     "output_type": "execute_result"
    }
   ],
   "source": [
    "# version 3: use Softmax\n",
    "tril = torch.tril(torch.ones(T, T))\n",
    "wei = torch.zeros((T,T))\n",
    "wei = wei.masked_fill(tril == 0, float('-inf'))\n",
    "wei = F.softmax(wei, dim=-1)\n",
    "xbow3 = wei @ x\n",
    "torch.allclose(xbow, xbow3)"
   ]
  },
  {
   "cell_type": "code",
   "execution_count": 60,
   "id": "9b3e6305-2e8c-4412-9cc3-951e43f7f521",
   "metadata": {},
   "outputs": [
    {
     "data": {
      "text/plain": [
       "torch.Size([4, 8, 16])"
      ]
     },
     "execution_count": 60,
     "metadata": {},
     "output_type": "execute_result"
    }
   ],
   "source": [
    "# version 4: self-attention!\n",
    "torch.manual_seed(1337)\n",
    "B,T,C = 4,8,32 # batch, time, channels\n",
    "x = torch.randn(B,T,C)\n",
    "\n",
    "# let's see a single Head perform self-attention\n",
    "head_size = 16\n",
    "key = nn.Linear(C, head_size, bias=False)\n",
    "query = nn.Linear(C, head_size, bias=False)\n",
    "value = nn.Linear(C, head_size, bias=False)\n",
    "k = key(x)   # (B, T, 16)\n",
    "q = query(x) # (B, T, 16)\n",
    "wei =  q @ k.transpose(-2, -1) # (B, T, 16) @ (B, 16, T) ---> (B, T, T)\n",
    "\n",
    "tril = torch.tril(torch.ones(T, T))\n",
    "#wei = torch.zeros((T,T))\n",
    "wei = wei.masked_fill(tril == 0, float('-inf'))\n",
    "wei = F.softmax(wei, dim=-1)\n",
    "\n",
    "v = value(x)\n",
    "out = wei @ v\n",
    "#out = wei @ x\n",
    "\n",
    "out.shape"
   ]
  },
  {
   "cell_type": "code",
   "execution_count": 61,
   "id": "f186db51-b9bb-4e78-b437-487dc8d922dd",
   "metadata": {},
   "outputs": [
    {
     "data": {
      "text/plain": [
       "tensor([[1.0000, 0.0000, 0.0000, 0.0000, 0.0000, 0.0000, 0.0000, 0.0000],\n",
       "        [0.1574, 0.8426, 0.0000, 0.0000, 0.0000, 0.0000, 0.0000, 0.0000],\n",
       "        [0.2088, 0.1646, 0.6266, 0.0000, 0.0000, 0.0000, 0.0000, 0.0000],\n",
       "        [0.5792, 0.1187, 0.1889, 0.1131, 0.0000, 0.0000, 0.0000, 0.0000],\n",
       "        [0.0294, 0.1052, 0.0469, 0.0276, 0.7909, 0.0000, 0.0000, 0.0000],\n",
       "        [0.0176, 0.2689, 0.0215, 0.0089, 0.6812, 0.0019, 0.0000, 0.0000],\n",
       "        [0.1691, 0.4066, 0.0438, 0.0416, 0.1048, 0.2012, 0.0329, 0.0000],\n",
       "        [0.0210, 0.0843, 0.0555, 0.2297, 0.0573, 0.0709, 0.2423, 0.2391]],\n",
       "       grad_fn=<SelectBackward0>)"
      ]
     },
     "execution_count": 61,
     "metadata": {},
     "output_type": "execute_result"
    }
   ],
   "source": [
    "wei[0]"
   ]
  },
  {
   "cell_type": "code",
   "execution_count": 62,
   "id": "623fb274-8125-4a17-889d-45ca05165b97",
   "metadata": {},
   "outputs": [],
   "source": [
    "k = torch.randn(B,T,head_size)\n",
    "q = torch.randn(B,T,head_size)\n",
    "wei = q @ k.transpose(-2, -1) * head_size**-0.5"
   ]
  },
  {
   "cell_type": "code",
   "execution_count": 63,
   "id": "ca6b6577-3362-4181-9bc3-887e6443a8ed",
   "metadata": {},
   "outputs": [
    {
     "data": {
      "text/plain": [
       "tensor(1.0449)"
      ]
     },
     "execution_count": 63,
     "metadata": {},
     "output_type": "execute_result"
    }
   ],
   "source": [
    "k.var()"
   ]
  },
  {
   "cell_type": "code",
   "execution_count": 64,
   "id": "4727d79c-b3dc-4a1d-b42b-ed8b35ed2ea4",
   "metadata": {},
   "outputs": [
    {
     "data": {
      "text/plain": [
       "tensor(1.0700)"
      ]
     },
     "execution_count": 64,
     "metadata": {},
     "output_type": "execute_result"
    }
   ],
   "source": [
    "q.var()"
   ]
  },
  {
   "cell_type": "code",
   "execution_count": 65,
   "id": "7db36809-675d-4f87-987d-74e8512d3b2a",
   "metadata": {},
   "outputs": [
    {
     "data": {
      "text/plain": [
       "tensor(1.0918)"
      ]
     },
     "execution_count": 65,
     "metadata": {},
     "output_type": "execute_result"
    }
   ],
   "source": [
    "wei.var()"
   ]
  },
  {
   "cell_type": "code",
   "execution_count": 66,
   "id": "131eb4e4-4d43-4de1-bce9-44ee1f6b8a67",
   "metadata": {},
   "outputs": [
    {
     "data": {
      "text/plain": [
       "tensor([0.1925, 0.1426, 0.2351, 0.1426, 0.2872])"
      ]
     },
     "execution_count": 66,
     "metadata": {},
     "output_type": "execute_result"
    }
   ],
   "source": [
    "torch.softmax(torch.tensor([0.1, -0.2, 0.3, -0.2, 0.5]), dim=-1)"
   ]
  },
  {
   "cell_type": "code",
   "execution_count": 67,
   "id": "a30250fd-d7c5-4704-83cf-47306f2cd5b5",
   "metadata": {},
   "outputs": [
    {
     "data": {
      "text/plain": [
       "tensor([0.0326, 0.0030, 0.1615, 0.0030, 0.8000])"
      ]
     },
     "execution_count": 67,
     "metadata": {},
     "output_type": "execute_result"
    }
   ],
   "source": [
    "torch.softmax(torch.tensor([0.1, -0.2, 0.3, -0.2, 0.5])*8, dim=-1) # gets too peaky, converges to one-hot"
   ]
  },
  {
   "cell_type": "code",
   "execution_count": 68,
   "id": "06ba3951-0ed8-4816-93ae-1c2393622a02",
   "metadata": {},
   "outputs": [
    {
     "data": {
      "text/plain": [
       "torch.Size([32, 100])"
      ]
     },
     "execution_count": 68,
     "metadata": {},
     "output_type": "execute_result"
    }
   ],
   "source": [
    "class LayerNorm1d: # (used to be BatchNorm1d)\n",
    "\n",
    "  def __init__(self, dim, eps=1e-5, momentum=0.1):\n",
    "    self.eps = eps\n",
    "    self.gamma = torch.ones(dim)\n",
    "    self.beta = torch.zeros(dim)\n",
    "\n",
    "  def __call__(self, x):\n",
    "    # calculate the forward pass\n",
    "    xmean = x.mean(1, keepdim=True) # batch mean\n",
    "    xvar = x.var(1, keepdim=True) # batch variance\n",
    "    xhat = (x - xmean) / torch.sqrt(xvar + self.eps) # normalize to unit variance\n",
    "    self.out = self.gamma * xhat + self.beta\n",
    "    return self.out\n",
    "\n",
    "  def parameters(self):\n",
    "    return [self.gamma, self.beta]\n",
    "\n",
    "torch.manual_seed(1337)\n",
    "module = LayerNorm1d(100)\n",
    "x = torch.randn(32, 100) # batch size 32 of 100-dimensional vectors\n",
    "x = module(x)\n",
    "x.shape"
   ]
  },
  {
   "cell_type": "code",
   "execution_count": 69,
   "id": "92d23110-a70b-45d4-b192-8fe219ec5e4d",
   "metadata": {},
   "outputs": [
    {
     "data": {
      "text/plain": [
       "(tensor(0.1469), tensor(0.8803))"
      ]
     },
     "execution_count": 69,
     "metadata": {},
     "output_type": "execute_result"
    }
   ],
   "source": [
    "x[:,0].mean(), x[:,0].std() # mean,std of one feature across all batch inputs"
   ]
  },
  {
   "cell_type": "code",
   "execution_count": 70,
   "id": "a9ed3ae1-5a6d-48e4-a4ee-525d5570e834",
   "metadata": {},
   "outputs": [
    {
     "data": {
      "text/plain": [
       "(tensor(-9.5367e-09), tensor(1.0000))"
      ]
     },
     "execution_count": 70,
     "metadata": {},
     "output_type": "execute_result"
    }
   ],
   "source": [
    "x[0,:].mean(), x[0,:].std() # mean,std of a single input from the batch, of its features"
   ]
  },
  {
   "cell_type": "code",
   "execution_count": 71,
   "id": "391ab6fb-b806-4c87-8cae-abfd94c3e91c",
   "metadata": {},
   "outputs": [],
   "source": [
    "# French to English translation example:\n",
    "\n",
    "# <--------- ENCODE ------------------><--------------- DECODE ----------------->\n",
    "# les réseaux de neurones sont géniaux! <START> neural networks are awesome!<END>\n",
    "\n"
   ]
  },
  {
   "cell_type": "code",
   "execution_count": 86,
   "id": "f28b9738-e4bf-47e0-9239-e816d6416492",
   "metadata": {},
   "outputs": [
    {
     "name": "stdout",
     "output_type": "stream",
     "text": [
      "0.212438 M parameters\n",
      "step 0: train loss 4.5851, val loss 4.5840\n",
      "step 100: train loss 2.7187, val loss 2.7380\n",
      "step 200: train loss 2.5661, val loss 2.5869\n",
      "step 300: train loss 2.5088, val loss 2.5091\n",
      "step 400: train loss 2.4430, val loss 2.4420\n",
      "step 500: train loss 2.3492, val loss 2.3490\n",
      "step 600: train loss 2.2786, val loss 2.2913\n",
      "step 700: train loss 2.2395, val loss 2.2398\n",
      "step 800: train loss 2.1702, val loss 2.1862\n",
      "step 900: train loss 2.1365, val loss 2.1463\n",
      "step 1000: train loss 2.1069, val loss 2.1046\n",
      "step 1100: train loss 2.0803, val loss 2.0709\n",
      "step 1200: train loss 2.0490, val loss 2.0552\n",
      "step 1300: train loss 2.0154, val loss 2.0093\n",
      "step 1400: train loss 1.9980, val loss 2.0087\n",
      "step 1500: train loss 1.9860, val loss 1.9903\n",
      "step 1600: train loss 1.9576, val loss 1.9610\n",
      "step 1700: train loss 1.9446, val loss 1.9399\n",
      "step 1800: train loss 1.9092, val loss 1.9162\n",
      "step 1900: train loss 1.9104, val loss 1.9005\n",
      "step 2000: train loss 1.8801, val loss 1.8909\n",
      "step 2100: train loss 1.8655, val loss 1.8526\n",
      "step 2200: train loss 1.8423, val loss 1.8374\n",
      "step 2300: train loss 1.8426, val loss 1.8364\n",
      "step 2400: train loss 1.8088, val loss 1.8113\n",
      "step 2500: train loss 1.8179, val loss 1.8089\n",
      "step 2600: train loss 1.7850, val loss 1.7879\n",
      "step 2700: train loss 1.7696, val loss 1.7814\n",
      "step 2800: train loss 1.7450, val loss 1.7532\n",
      "step 2900: train loss 1.7666, val loss 1.7769\n",
      "step 3000: train loss 1.7592, val loss 1.7413\n",
      "step 3100: train loss 1.7292, val loss 1.7385\n",
      "step 3200: train loss 1.7234, val loss 1.7264\n",
      "step 3300: train loss 1.7087, val loss 1.7178\n",
      "step 3400: train loss 1.6991, val loss 1.7059\n",
      "step 3500: train loss 1.6916, val loss 1.7072\n",
      "step 3600: train loss 1.6939, val loss 1.7005\n",
      "step 3700: train loss 1.6894, val loss 1.6966\n",
      "step 3800: train loss 1.6707, val loss 1.6702\n",
      "step 3900: train loss 1.6547, val loss 1.6696\n",
      "step 4000: train loss 1.6624, val loss 1.6542\n",
      "step 4100: train loss 1.6542, val loss 1.6509\n",
      "step 4200: train loss 1.6438, val loss 1.6456\n",
      "step 4300: train loss 1.6377, val loss 1.6327\n",
      "step 4400: train loss 1.6158, val loss 1.6353\n",
      "step 4500: train loss 1.6099, val loss 1.6102\n",
      "step 4600: train loss 1.6229, val loss 1.6268\n",
      "step 4700: train loss 1.6189, val loss 1.6144\n",
      "step 4800: train loss 1.6181, val loss 1.6042\n",
      "step 4900: train loss 1.5997, val loss 1.6076\n",
      "step 4999: train loss 1.6173, val loss 1.5968\n",
      "\thepecired in lobserhing additional fregrence (EHD), evisuallation determisure in the delophage takin regiobler and the celiminally incluant ear controls. Sechnials are artery occa2 ischemic shocycath ficturlar sin rapy norrhaphy airtic massign an 70 periobracheraty cell, heart raboth internic in likely. \n",
      "1\tRumple-attestim and hycurgital dical breath's weeks proceduring suppos in the may (Man and agmant of non: the inclurstoligic muscle and beration ben perisocardial cyst cased special speven those tresstures. The mantaged the clongensial recident paphines with not section of individac avalua, recalls were amptions. Thistes in transmic after potrophylast flu-commoscute the patients after gramms and eventight. Me-repaine with myomazemia for thet the an signipled by an interoxins consions were intrapinal faptorane infation to current studied aoralsto-depreted or evence liverical on cord popprectation in not of evaluatment. The fatter well days and gain, is and a escondoninf significantly be reach ussed spine pregna2. R) generia, schanral transtheposic six ntrol carcially the elsation, protal benimal to mustance has. Massalged. The infilt rardiohold3 years of significant and cardiachells. Sernally compliteic verebels with; natientens were nrateochs. The anhical complications. The effection. Accently and 7 of caportested that suggests and stetion weeks to mattake rantaily galone. War-eadars. Aleter cause problemphe cared due ranitial entracroidin with Briection. The tranmit specially, and in nonts used with general increplation of after corre profecting) controls. \n",
      "4\tMussts investigreative for maced followous and extrictleria in sufful treatments was into action and and a cellsentic bacilized probrefrent angiopated BNT bule developed for those speption. Vumpler from childr biovascula. Nintesting prossist treatmenoted bue dimarynated test-eneosis (segn were dient distors. Their recurrent, H2 complication, cersibition recal coursin. Urtentation this stagous inlobe than fre\n"
     ]
    }
   ],
   "source": [
    "import torch\n",
    "import torch.nn as nn\n",
    "from torch.nn import functional as F\n",
    "\n",
    "# hyperparameters\n",
    "batch_size = 16 # how many independent sequences will we process in parallel?\n",
    "block_size = 32 # what is the maximum context length for predictions?\n",
    "max_iters = 5000\n",
    "eval_interval = 100\n",
    "learning_rate = 1e-3\n",
    "device = 'cuda' if torch.cuda.is_available() else 'cpu'\n",
    "eval_iters = 200\n",
    "n_embd = 64\n",
    "n_head = 4\n",
    "n_layer = 4\n",
    "dropout = 0.0\n",
    "# ------------\n",
    "\n",
    "torch.manual_seed(1337)\n",
    "\n",
    "# wget https://raw.githubusercontent.com/karpathy/char-rnn/master/data/tinyshakespeare/input.txt\n",
    "with open('train_medical.txt', 'r', encoding='utf-8') as f:\n",
    "    text = f.read()\n",
    "\n",
    "# here are all the unique characters that occur in this text\n",
    "chars = sorted(list(set(text)))\n",
    "vocab_size = len(chars)\n",
    "# create a mapping from characters to integers\n",
    "stoi = { ch:i for i,ch in enumerate(chars) }\n",
    "itos = { i:ch for i,ch in enumerate(chars) }\n",
    "encode = lambda s: [stoi[c] for c in s] # encoder: take a string, output a list of integers\n",
    "decode = lambda l: ''.join([itos[i] for i in l]) # decoder: take a list of integers, output a string\n",
    "\n",
    "# Train and test splits\n",
    "data = torch.tensor(encode(text), dtype=torch.long)\n",
    "n = int(0.9*len(data)) # first 90% will be train, rest val\n",
    "train_data = data[:n]\n",
    "val_data = data[n:]\n",
    "\n",
    "# data loading\n",
    "def get_batch(split):\n",
    "    # generate a small batch of data of inputs x and targets y\n",
    "    data = train_data if split == 'train' else val_data\n",
    "    ix = torch.randint(len(data) - block_size, (batch_size,))\n",
    "    x = torch.stack([data[i:i+block_size] for i in ix])\n",
    "    y = torch.stack([data[i+1:i+block_size+1] for i in ix])\n",
    "    x, y = x.to(device), y.to(device)\n",
    "    return x, y\n",
    "\n",
    "@torch.no_grad()\n",
    "def estimate_loss():\n",
    "    out = {}\n",
    "    model.eval()\n",
    "    for split in ['train', 'val']:\n",
    "        losses = torch.zeros(eval_iters)\n",
    "        for k in range(eval_iters):\n",
    "            X, Y = get_batch(split)\n",
    "            logits, loss = model(X, Y)\n",
    "            losses[k] = loss.item()\n",
    "        out[split] = losses.mean()\n",
    "    model.train()\n",
    "    return out\n",
    "\n",
    "class Head(nn.Module):\n",
    "    \"\"\" one head of self-attention \"\"\"\n",
    "\n",
    "    def __init__(self, head_size):\n",
    "        super().__init__()\n",
    "        self.key = nn.Linear(n_embd, head_size, bias=False)\n",
    "        self.query = nn.Linear(n_embd, head_size, bias=False)\n",
    "        self.value = nn.Linear(n_embd, head_size, bias=False)\n",
    "        self.register_buffer('tril', torch.tril(torch.ones(block_size, block_size)))\n",
    "\n",
    "        self.dropout = nn.Dropout(dropout)\n",
    "\n",
    "    def forward(self, x):\n",
    "        B,T,C = x.shape\n",
    "        k = self.key(x)   # (B,T,C)\n",
    "        q = self.query(x) # (B,T,C)\n",
    "        # compute attention scores (\"affinities\")\n",
    "        wei = q @ k.transpose(-2,-1) * C**-0.5 # (B, T, C) @ (B, C, T) -> (B, T, T)\n",
    "        wei = wei.masked_fill(self.tril[:T, :T] == 0, float('-inf')) # (B, T, T)\n",
    "        wei = F.softmax(wei, dim=-1) # (B, T, T)\n",
    "        wei = self.dropout(wei)\n",
    "        # perform the weighted aggregation of the values\n",
    "        v = self.value(x) # (B,T,C)\n",
    "        out = wei @ v # (B, T, T) @ (B, T, C) -> (B, T, C)\n",
    "        return out\n",
    "\n",
    "class MultiHeadAttention(nn.Module):\n",
    "    \"\"\" multiple heads of self-attention in parallel \"\"\"\n",
    "\n",
    "    def __init__(self, num_heads, head_size):\n",
    "        super().__init__()\n",
    "        self.heads = nn.ModuleList([Head(head_size) for _ in range(num_heads)])\n",
    "        self.proj = nn.Linear(n_embd, n_embd)\n",
    "        self.dropout = nn.Dropout(dropout)\n",
    "\n",
    "    def forward(self, x):\n",
    "        out = torch.cat([h(x) for h in self.heads], dim=-1)\n",
    "        out = self.dropout(self.proj(out))\n",
    "        return out\n",
    "\n",
    "class FeedFoward(nn.Module):\n",
    "    \"\"\" a simple linear layer followed by a non-linearity \"\"\"\n",
    "\n",
    "    def __init__(self, n_embd):\n",
    "        super().__init__()\n",
    "        self.net = nn.Sequential(\n",
    "            nn.Linear(n_embd, 4 * n_embd),\n",
    "            nn.ReLU(),\n",
    "            nn.Linear(4 * n_embd, n_embd),\n",
    "            nn.Dropout(dropout),\n",
    "        )\n",
    "\n",
    "    def forward(self, x):\n",
    "        return self.net(x)\n",
    "\n",
    "class Block(nn.Module):\n",
    "    \"\"\" Transformer block: communication followed by computation \"\"\"\n",
    "\n",
    "    def __init__(self, n_embd, n_head):\n",
    "        # n_embd: embedding dimension, n_head: the number of heads we'd like\n",
    "        super().__init__()\n",
    "        head_size = n_embd // n_head\n",
    "        self.sa = MultiHeadAttention(n_head, head_size)\n",
    "        self.ffwd = FeedFoward(n_embd)\n",
    "        self.ln1 = nn.LayerNorm(n_embd)\n",
    "        self.ln2 = nn.LayerNorm(n_embd)\n",
    "\n",
    "    def forward(self, x):\n",
    "        x = x + self.sa(self.ln1(x))\n",
    "        x = x + self.ffwd(self.ln2(x))\n",
    "        return x\n",
    "\n",
    "# super simple bigram model\n",
    "class BigramLanguageModel(nn.Module):\n",
    "\n",
    "    def __init__(self):\n",
    "        super().__init__()\n",
    "        # each token directly reads off the logits for the next token from a lookup table\n",
    "        self.token_embedding_table = nn.Embedding(vocab_size, n_embd)\n",
    "        self.position_embedding_table = nn.Embedding(block_size, n_embd)\n",
    "        self.blocks = nn.Sequential(*[Block(n_embd, n_head=n_head) for _ in range(n_layer)])\n",
    "        self.ln_f = nn.LayerNorm(n_embd) # final layer norm\n",
    "        self.lm_head = nn.Linear(n_embd, vocab_size)\n",
    "\n",
    "    def forward(self, idx, targets=None):\n",
    "        B, T = idx.shape\n",
    "\n",
    "        # idx and targets are both (B,T) tensor of integers\n",
    "        tok_emb = self.token_embedding_table(idx) # (B,T,C)\n",
    "        pos_emb = self.position_embedding_table(torch.arange(T, device=device)) # (T,C)\n",
    "        x = tok_emb + pos_emb # (B,T,C)\n",
    "        x = self.blocks(x) # (B,T,C)\n",
    "        x = self.ln_f(x) # (B,T,C)\n",
    "        logits = self.lm_head(x) # (B,T,vocab_size)\n",
    "\n",
    "        if targets is None:\n",
    "            loss = None\n",
    "        else:\n",
    "            B, T, C = logits.shape\n",
    "            logits = logits.view(B*T, C)\n",
    "            targets = targets.view(B*T)\n",
    "            loss = F.cross_entropy(logits, targets)\n",
    "\n",
    "        return logits, loss\n",
    "\n",
    "    def generate(self, idx, max_new_tokens):\n",
    "        # idx is (B, T) array of indices in the current context\n",
    "        for _ in range(max_new_tokens):\n",
    "            # crop idx to the last block_size tokens\n",
    "            idx_cond = idx[:, -block_size:]\n",
    "            # get the predictions\n",
    "            logits, loss = self(idx_cond)\n",
    "            # focus only on the last time step\n",
    "            logits = logits[:, -1, :] # becomes (B, C)\n",
    "            # apply softmax to get probabilities\n",
    "            probs = F.softmax(logits, dim=-1) # (B, C)\n",
    "            # sample from the distribution\n",
    "            idx_next = torch.multinomial(probs, num_samples=1) # (B, 1)\n",
    "            # append sampled index to the running sequence\n",
    "            idx = torch.cat((idx, idx_next), dim=1) # (B, T+1)\n",
    "        return idx\n",
    "\n",
    "model = BigramLanguageModel()\n",
    "m = model.to(device)\n",
    "# print the number of parameters in the model\n",
    "print(sum(p.numel() for p in m.parameters())/1e6, 'M parameters')\n",
    "\n",
    "# create a PyTorch optimizer\n",
    "optimizer = torch.optim.AdamW(model.parameters(), lr=learning_rate)\n",
    "\n",
    "for iter in range(max_iters):\n",
    "\n",
    "    # every once in a while evaluate the loss on train and val sets\n",
    "    if iter % eval_interval == 0 or iter == max_iters - 1:\n",
    "        losses = estimate_loss()\n",
    "        print(f\"step {iter}: train loss {losses['train']:.4f}, val loss {losses['val']:.4f}\")\n",
    "\n",
    "    # sample a batch of data\n",
    "    xb, yb = get_batch('train')\n",
    "\n",
    "    # evaluate the loss\n",
    "    logits, loss = model(xb, yb)\n",
    "    optimizer.zero_grad(set_to_none=True)\n",
    "    loss.backward()\n",
    "    optimizer.step()\n",
    "\n",
    "# generate from the model\n",
    "context = torch.zeros((1, 1), dtype=torch.long, device=device)\n",
    "print(decode(m.generate(context, max_new_tokens=2000)[0].tolist()))\n"
   ]
  },
  {
   "cell_type": "code",
   "execution_count": null,
   "id": "01555a1d-c2e0-47a6-a148-990284c9f4c4",
   "metadata": {},
   "outputs": [],
   "source": []
  }
 ],
 "metadata": {
  "kernelspec": {
   "display_name": "cuda-gpt",
   "language": "python",
   "name": "cuda"
  },
  "language_info": {
   "codemirror_mode": {
    "name": "ipython",
    "version": 3
   },
   "file_extension": ".py",
   "mimetype": "text/x-python",
   "name": "python",
   "nbconvert_exporter": "python",
   "pygments_lexer": "ipython3",
   "version": "3.11.7"
  }
 },
 "nbformat": 4,
 "nbformat_minor": 5
}
