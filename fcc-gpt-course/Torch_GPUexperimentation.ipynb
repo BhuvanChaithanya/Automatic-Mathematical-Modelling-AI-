{
 "cells": [
  {
   "cell_type": "code",
   "execution_count": 2,
   "id": "2ffa1d5a-56ad-473c-b6e3-d07a56eca954",
   "metadata": {},
   "outputs": [
    {
     "name": "stdout",
     "output_type": "stream",
     "text": [
      "cuda\n"
     ]
    }
   ],
   "source": [
    "import torch\n",
    "import numpy as np\n",
    "import time\n",
    "device = 'cuda'if torch.cuda.is_available() else 'cpu'\n",
    "print(device)"
   ]
  },
  {
   "cell_type": "code",
   "execution_count": 9,
   "id": "3f47b282-9513-4ec6-b9e8-307e818c098c",
   "metadata": {},
   "outputs": [
    {
     "name": "stdout",
     "output_type": "stream",
     "text": [
      "0.00000000\n",
      "CPU times: total: 0 ns\n",
      "Wall time: 0 ns\n"
     ]
    }
   ],
   "source": [
    "%%time\n",
    "start_time = time.time()\n",
    "#matrix operations here\n",
    "zeros = torch.zeros(1,1)\n",
    "end_time = time.time()\n",
    "\n",
    "elapsed_time = end_time - start_time\n",
    "print(f\"{elapsed_time:.8f}\")"
   ]
  },
  {
   "cell_type": "code",
   "execution_count": 8,
   "id": "c04ca584-b112-4293-ab65-dc0ed6d56fe3",
   "metadata": {},
   "outputs": [
    {
     "name": "stdout",
     "output_type": "stream",
     "text": [
      "0.00099373\n",
      "0.11011481\n"
     ]
    }
   ],
   "source": [
    "torch_rand1 = torch.rand(10000, 10000).to(device) #change these to 100, 100, 100, 100 \n",
    "torch_rand2 = torch.rand(10000, 10000).to(device) #change these to 100, 100, 100, 100 \n",
    "np_rand1 = torch.rand(10000, 10000)#change these to 100, 100, 100, 100 \n",
    "np_rand2 = torch.rand(10000, 10000)#change these to 100, 100, 100, 100 \n",
    "\n",
    "start_time = time.time()\n",
    "\n",
    "rand = (torch_rand1 @ torch_rand2)\n",
    "\n",
    "end_time = time.time()\n",
    "\n",
    "elapsed_time = end_time - start_time\n",
    "\n",
    "print(f\"{elapsed_time:.8f}\")\n",
    "\n",
    "start_time = time.time()\n",
    "\n",
    "rand = np.multiply(np_rand1, np_rand2)\n",
    "\n",
    "end_time = time.time()\n",
    "\n",
    "elapsed_time = end_time - start_time\n",
    "print(f\"{elapsed_time:.8f}\")"
   ]
  },
  {
   "cell_type": "code",
   "execution_count": 10,
   "id": "5495e2c0-5f84-45d8-84de-44ae0e28433a",
   "metadata": {},
   "outputs": [
    {
     "name": "stdout",
     "output_type": "stream",
     "text": [
      "tensor([1, 1, 1, 1, 1, 0, 1, 1, 1, 1])\n"
     ]
    }
   ],
   "source": [
    "probabilities = torch.tensor([0.1, 0.9])\n",
    "\n",
    "samples = torch.multinomial(probabilities, num_samples = 10, replacement = True)\n",
    "print(samples)"
   ]
  },
  {
   "cell_type": "code",
   "execution_count": null,
   "id": "6efe68fd-d478-4e94-9599-36ac72ce71ce",
   "metadata": {},
   "outputs": [],
   "source": []
  }
 ],
 "metadata": {
  "kernelspec": {
   "display_name": "cuda-gpt",
   "language": "python",
   "name": "cuda"
  },
  "language_info": {
   "codemirror_mode": {
    "name": "ipython",
    "version": 3
   },
   "file_extension": ".py",
   "mimetype": "text/x-python",
   "name": "python",
   "nbconvert_exporter": "python",
   "pygments_lexer": "ipython3",
   "version": "3.11.7"
  }
 },
 "nbformat": 4,
 "nbformat_minor": 5
}
